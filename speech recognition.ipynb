{
 "cells": [
  {
   "cell_type": "markdown",
   "id": "prime-seafood",
   "metadata": {},
   "source": [
    "# speech recognition"
   ]
  },
  {
   "cell_type": "code",
   "execution_count": 1,
   "id": "rolled-promise",
   "metadata": {},
   "outputs": [],
   "source": [
    "#IMPORTING LIBRARIES THAT ARE NEEDED FOR DATA PROCESSING AND PREDICTION\n",
    "\n",
    "import tensorflow as tf\n",
    "import librosa\n",
    "import collections\n",
    "import IPython.display as ipd\n",
    "import matplotlib.pyplot as plt\n",
    "import seaborn as sns\n",
    "import numpy as np\n",
    "from scipy.io import wavfile\n",
    "import warnings\n",
    "import pandas as pd\n",
    "import os\n",
    "import glob\n",
    "warnings.filterwarnings(\"ignore\")\n",
    "import scipy.io.wavfile as wav\n",
    "from sklearn.preprocessing import LabelEncoder\n",
    "from tqdm import tqdm\n",
    "from sklearn.model_selection import train_test_split\n",
    "from tensorflow.keras import layers"
   ]
  },
  {
   "cell_type": "markdown",
   "id": "adolescent-botswana",
   "metadata": {},
   "source": [
    "#### using os.walk to get the file names from the directory --> \"speech_commands_v0.01\"\n",
    "    In this file names are different types of speech commands"
   ]
  },
  {
   "cell_type": "code",
   "execution_count": 2,
   "id": "robust-wichita",
   "metadata": {
    "collapsed": true
   },
   "outputs": [
    {
     "data": {
      "text/plain": [
       "['bed',\n",
       " 'bird',\n",
       " 'cat',\n",
       " 'dog',\n",
       " 'down',\n",
       " 'eight',\n",
       " 'five',\n",
       " 'four',\n",
       " 'go',\n",
       " 'happy',\n",
       " 'house',\n",
       " 'left',\n",
       " 'marvin',\n",
       " 'nine',\n",
       " 'no',\n",
       " 'off',\n",
       " 'on',\n",
       " 'one',\n",
       " 'right',\n",
       " 'seven',\n",
       " 'sheila',\n",
       " 'six',\n",
       " 'stop',\n",
       " 'three',\n",
       " 'tree',\n",
       " 'two',\n",
       " 'up',\n",
       " 'wow',\n",
       " 'yes',\n",
       " 'zero',\n",
       " '_background_noise_']"
      ]
     },
     "execution_count": 2,
     "metadata": {},
     "output_type": "execute_result"
    }
   ],
   "source": [
    "# GETTING THE LABLE FROM THE FOLDERS\n",
    "sound_names = [dir1 for root,dir1,files in os.walk(\"speech_commands_v0.01\")]\n",
    "sound_names[0]"
   ]
  },
  {
   "cell_type": "markdown",
   "id": "earned-occurrence",
   "metadata": {},
   "source": [
    "#### Using glob.glob function:\n",
    "    To get files from the given speech command folder"
   ]
  },
  {
   "cell_type": "code",
   "execution_count": 3,
   "id": "greater-samoa",
   "metadata": {},
   "outputs": [],
   "source": [
    "#function to get every wav file from the folder\n",
    "def get_files(sound_word):\n",
    "    words = [i for i in glob.glob(\"speech_commands_v0.01//\"+sound_word+\"//*.wav*\")]\n",
    "    return words"
   ]
  },
  {
   "cell_type": "markdown",
   "id": "weekly-merchant",
   "metadata": {},
   "source": [
    "#### Using Librosa:\n",
    "    --> Librosa is a library used to handle the audio files.\n",
    "    --> We can use scipy.io.wavfile to read and handle the wav audio files. \n",
    "    --> Librosa is used here because it came with default resample condition. It resamples the audio file with 22050Hz. And it changes every audio channels into Mono. so Librosa reduces the feature engineering time and avoid the unwanted codes. because for prediction we have to use mono channel and same sample rate with all the files.\n",
    "    --> The loaded audio is converted to a float with amplitude values lying in the range of  [−1,1] .\n",
    "    --> unlike Librosa, scipy.io.wavfile is giving audio data and sample rate of an audio\n",
    "\n",
    "#### using MFCC:\n",
    "    --> MFCC - Mel frequency ceptral coefficient\n",
    "    --> MFCC giving the important audio data.\n",
    "    --> ceptrum is known as spectrum of spectrum\n",
    "            c(x(t)) = F^(-1)[log(F(x(t))]"
   ]
  },
  {
   "cell_type": "code",
   "execution_count": 4,
   "id": "resident-venezuela",
   "metadata": {},
   "outputs": [],
   "source": [
    "# FUNCTION TO GET IMPORTANT FEATURE FROM THE AUDIO USING MFCC (mel frequency ceptral coefficient)\n",
    "def get_data(word_sound,recordings,label,feature):\n",
    "    for i in word_sound:\n",
    "        data_sample, sample_rate = librosa.load(i,res_type = 'kaiser_fast')\n",
    "        mfccs = librosa.feature.mfcc(y = data_sample, sr = sample_rate, n_mfcc = 40)\n",
    "        mfcc_scaled = np.mean(mfccs.T,axis = 0)\n",
    "        recordings.append(mfcc_scaled)\n",
    "        label.append(feature)\n",
    "    return (recordings,label)"
   ]
  },
  {
   "cell_type": "code",
   "execution_count": 5,
   "id": "compatible-momentum",
   "metadata": {},
   "outputs": [],
   "source": [
    "# initialize recordings and labels list to store audio data and corresponding labels\n",
    "recordings = []\n",
    "labels = []"
   ]
  },
  {
   "cell_type": "code",
   "execution_count": 6,
   "id": "brief-poker",
   "metadata": {},
   "outputs": [],
   "source": [
    "# getting audios of first five files\n",
    "for i in sound_names[0][:5]:\n",
    "    wav_file_list = get_files(i)\n",
    "    recordings,labels = get_data(wav_file_list,recordings,labels,i)"
   ]
  },
  {
   "cell_type": "code",
   "execution_count": 7,
   "id": "unlike-winter",
   "metadata": {},
   "outputs": [],
   "source": [
    "# convert them into an array\n",
    "x = np.array(recordings)\n",
    "y = np.array(labels)"
   ]
  },
  {
   "cell_type": "markdown",
   "id": "becoming-fighter",
   "metadata": {},
   "source": [
    "#### using Counter:\n",
    "    --> Counter function from collection class is used to give the frquency of the given list of values\n",
    "    --> here Counter is used to find out whether data is imbalanced or not.\n",
    "    --> the data we got from the audio files are not imbalanced. \n",
    "    --> if it is , then we have to use Down sampling or over sampling using imblearn library."
   ]
  },
  {
   "cell_type": "code",
   "execution_count": 8,
   "id": "engaging-spanking",
   "metadata": {},
   "outputs": [
    {
     "data": {
      "text/plain": [
       "Counter({'bed': 1712, 'bird': 1731, 'cat': 1733, 'dog': 1746, 'down': 2359})"
      ]
     },
     "execution_count": 8,
     "metadata": {},
     "output_type": "execute_result"
    }
   ],
   "source": [
    "#checking the lables is biased or not\n",
    "\n",
    "from collections import Counter\n",
    "Counter(y)"
   ]
  },
  {
   "cell_type": "code",
   "execution_count": 9,
   "id": "alert-system",
   "metadata": {},
   "outputs": [],
   "source": [
    "# since it is the multiclass classification problem label encoding on the lables is necessary\n",
    "y = pd.get_dummies(y)"
   ]
  },
  {
   "cell_type": "code",
   "execution_count": 10,
   "id": "indian-baseline",
   "metadata": {},
   "outputs": [
    {
     "data": {
      "text/plain": [
       "(9281, 5)"
      ]
     },
     "execution_count": 10,
     "metadata": {},
     "output_type": "execute_result"
    }
   ],
   "source": [
    "y.shape"
   ]
  },
  {
   "cell_type": "code",
   "execution_count": 11,
   "id": "experienced-rebate",
   "metadata": {},
   "outputs": [],
   "source": [
    "# getting training and test data set using train test split\n",
    "x_train,x_test,y_train,y_test = train_test_split(x,y,test_size = 0.3,random_state = 42)"
   ]
  },
  {
   "cell_type": "code",
   "execution_count": 12,
   "id": "instrumental-ghana",
   "metadata": {},
   "outputs": [
    {
     "data": {
      "text/plain": [
       "((6496, 40), (2785, 40))"
      ]
     },
     "execution_count": 12,
     "metadata": {},
     "output_type": "execute_result"
    }
   ],
   "source": [
    "x_train.shape,x_test.shape"
   ]
  },
  {
   "cell_type": "markdown",
   "id": "concerned-olive",
   "metadata": {},
   "source": [
    "#### using tensorflow:\n",
    "    --> tensorflow.keras is used to create Neural Nets.\n",
    "    --> here we created te sequential model with two dense layers and using RELU as an activation function.\n",
    "    --> input_shape is given as (40,) which is the shape of the x_train.\n",
    "    --> since it is a multiclass classification we are using softmax as an activation function in the output layer.\n",
    "    --> category_crossentropy is used here because it is a multiclass classification problem and Adam optimizer is used because \n",
    "    it is work well with noice problems and it is faster than SGD."
   ]
  },
  {
   "cell_type": "code",
   "execution_count": 13,
   "id": "deluxe-swing",
   "metadata": {},
   "outputs": [],
   "source": [
    "# importing tensorflow libraries to create NN\n",
    "from tensorflow.keras.models import Sequential\n",
    "from tensorflow.keras.layers import Dense,Dropout,Activation,Flatten\n",
    "from tensorflow.keras.optimizers import Adam\n",
    "from tensorflow.keras import layers\n",
    "from sklearn import metrics"
   ]
  },
  {
   "cell_type": "code",
   "execution_count": 14,
   "id": "cubic-gentleman",
   "metadata": {},
   "outputs": [],
   "source": [
    "# creating layers of neural networks\n",
    "model = Sequential()\n",
    "\n",
    "#layer 1\n",
    "model.add(Dense(100,input_shape = (40,)))\n",
    "model.add(Activation('relu'))\n",
    "model.add(Dropout(0.5))\n",
    "\n",
    "\n",
    "#layer 3 \n",
    "model.add(Dense(150))\n",
    "model.add(Activation('relu'))\n",
    "model.add(Dropout(0.5))\n",
    "\n",
    "\n",
    "#output layer\n",
    "model.add(Dense(5))\n",
    "model.add(Activation('softmax'))"
   ]
  },
  {
   "cell_type": "code",
   "execution_count": 15,
   "id": "isolated-limitation",
   "metadata": {},
   "outputs": [
    {
     "name": "stdout",
     "output_type": "stream",
     "text": [
      "Model: \"sequential\"\n",
      "_________________________________________________________________\n",
      "Layer (type)                 Output Shape              Param #   \n",
      "=================================================================\n",
      "dense (Dense)                (None, 100)               4100      \n",
      "_________________________________________________________________\n",
      "activation (Activation)      (None, 100)               0         \n",
      "_________________________________________________________________\n",
      "dropout (Dropout)            (None, 100)               0         \n",
      "_________________________________________________________________\n",
      "dense_1 (Dense)              (None, 150)               15150     \n",
      "_________________________________________________________________\n",
      "activation_1 (Activation)    (None, 150)               0         \n",
      "_________________________________________________________________\n",
      "dropout_1 (Dropout)          (None, 150)               0         \n",
      "_________________________________________________________________\n",
      "dense_2 (Dense)              (None, 5)                 755       \n",
      "_________________________________________________________________\n",
      "activation_2 (Activation)    (None, 5)                 0         \n",
      "=================================================================\n",
      "Total params: 20,005\n",
      "Trainable params: 20,005\n",
      "Non-trainable params: 0\n",
      "_________________________________________________________________\n"
     ]
    }
   ],
   "source": [
    "model.summary()"
   ]
  },
  {
   "cell_type": "code",
   "execution_count": 16,
   "id": "honest-chapel",
   "metadata": {},
   "outputs": [],
   "source": [
    "model.compile(loss = 'categorical_crossentropy',metrics = ['accuracy'],optimizer = 'adam')"
   ]
  },
  {
   "cell_type": "code",
   "execution_count": 20,
   "id": "nominated-fellow",
   "metadata": {
    "collapsed": true
   },
   "outputs": [
    {
     "name": "stdout",
     "output_type": "stream",
     "text": [
      "Epoch 1/100\n",
      "102/102 [==============================] - 1s 7ms/step - loss: 0.8402 - accuracy: 0.6838 - val_loss: 0.8939 - val_accuracy: 0.6664\n",
      "Epoch 2/100\n",
      "102/102 [==============================] - 1s 6ms/step - loss: 0.8229 - accuracy: 0.6861 - val_loss: 0.8916 - val_accuracy: 0.6625\n",
      "Epoch 3/100\n",
      "102/102 [==============================] - 1s 6ms/step - loss: 0.8306 - accuracy: 0.6904 - val_loss: 0.9002 - val_accuracy: 0.6700\n",
      "Epoch 4/100\n",
      "102/102 [==============================] - 1s 6ms/step - loss: 0.8362 - accuracy: 0.6810 - val_loss: 0.8967 - val_accuracy: 0.6600\n",
      "Epoch 5/100\n",
      "102/102 [==============================] - 1s 6ms/step - loss: 0.8346 - accuracy: 0.6800 - val_loss: 0.8886 - val_accuracy: 0.6679\n",
      "Epoch 6/100\n",
      "102/102 [==============================] - 1s 7ms/step - loss: 0.8331 - accuracy: 0.6824 - val_loss: 0.8906 - val_accuracy: 0.6675\n",
      "Epoch 7/100\n",
      "102/102 [==============================] - 1s 6ms/step - loss: 0.8253 - accuracy: 0.6880 - val_loss: 0.8968 - val_accuracy: 0.6625\n",
      "Epoch 8/100\n",
      "102/102 [==============================] - 1s 6ms/step - loss: 0.8268 - accuracy: 0.6913 - val_loss: 0.8921 - val_accuracy: 0.6679\n",
      "Epoch 9/100\n",
      "102/102 [==============================] - 1s 6ms/step - loss: 0.8229 - accuracy: 0.6824 - val_loss: 0.9005 - val_accuracy: 0.6643\n",
      "Epoch 10/100\n",
      "102/102 [==============================] - 1s 6ms/step - loss: 0.8289 - accuracy: 0.6793 - val_loss: 0.8943 - val_accuracy: 0.6607\n",
      "Epoch 11/100\n",
      "102/102 [==============================] - 1s 7ms/step - loss: 0.8333 - accuracy: 0.6806 - val_loss: 0.9002 - val_accuracy: 0.6610\n",
      "Epoch 12/100\n",
      "102/102 [==============================] - 1s 7ms/step - loss: 0.8296 - accuracy: 0.6870 - val_loss: 0.9017 - val_accuracy: 0.6567\n",
      "Epoch 13/100\n",
      "102/102 [==============================] - 1s 7ms/step - loss: 0.8328 - accuracy: 0.6893 - val_loss: 0.9021 - val_accuracy: 0.6639\n",
      "Epoch 14/100\n",
      "102/102 [==============================] - 1s 12ms/step - loss: 0.8190 - accuracy: 0.6886 - val_loss: 0.8947 - val_accuracy: 0.6689\n",
      "Epoch 15/100\n",
      "102/102 [==============================] - 1s 8ms/step - loss: 0.8240 - accuracy: 0.6941 - val_loss: 0.8718 - val_accuracy: 0.6783\n",
      "Epoch 16/100\n",
      "102/102 [==============================] - 1s 8ms/step - loss: 0.8316 - accuracy: 0.6841 - val_loss: 0.8930 - val_accuracy: 0.6661\n",
      "Epoch 17/100\n",
      "102/102 [==============================] - 1s 8ms/step - loss: 0.8527 - accuracy: 0.6775 - val_loss: 0.9122 - val_accuracy: 0.6539\n",
      "Epoch 18/100\n",
      "102/102 [==============================] - 1s 10ms/step - loss: 0.8525 - accuracy: 0.6833 - val_loss: 0.8944 - val_accuracy: 0.6671\n",
      "Epoch 19/100\n",
      "102/102 [==============================] - 1s 8ms/step - loss: 0.8384 - accuracy: 0.6866 - val_loss: 0.9012 - val_accuracy: 0.6596\n",
      "Epoch 20/100\n",
      "102/102 [==============================] - 1s 8ms/step - loss: 0.8278 - accuracy: 0.6912 - val_loss: 0.8991 - val_accuracy: 0.6632\n",
      "Epoch 21/100\n",
      "102/102 [==============================] - 1s 8ms/step - loss: 0.8324 - accuracy: 0.6917 - val_loss: 0.8893 - val_accuracy: 0.6833\n",
      "Epoch 22/100\n",
      "102/102 [==============================] - 1s 8ms/step - loss: 0.8224 - accuracy: 0.6823 - val_loss: 0.8846 - val_accuracy: 0.6758\n",
      "Epoch 23/100\n",
      "102/102 [==============================] - 1s 9ms/step - loss: 0.8238 - accuracy: 0.6943 - val_loss: 0.8924 - val_accuracy: 0.6650\n",
      "Epoch 24/100\n",
      "102/102 [==============================] - 1s 8ms/step - loss: 0.8293 - accuracy: 0.6858 - val_loss: 0.8811 - val_accuracy: 0.6711\n",
      "Epoch 25/100\n",
      "102/102 [==============================] - 1s 8ms/step - loss: 0.8276 - accuracy: 0.6846 - val_loss: 0.8840 - val_accuracy: 0.6718\n",
      "Epoch 26/100\n",
      "102/102 [==============================] - 1s 8ms/step - loss: 0.8363 - accuracy: 0.6821 - val_loss: 0.8944 - val_accuracy: 0.6657\n",
      "Epoch 27/100\n",
      "102/102 [==============================] - 1s 8ms/step - loss: 0.8574 - accuracy: 0.6807 - val_loss: 0.8968 - val_accuracy: 0.6682\n",
      "Epoch 28/100\n",
      "102/102 [==============================] - 1s 8ms/step - loss: 0.8128 - accuracy: 0.6937 - val_loss: 0.8988 - val_accuracy: 0.6715\n",
      "Epoch 29/100\n",
      "102/102 [==============================] - 1s 8ms/step - loss: 0.8338 - accuracy: 0.6883 - val_loss: 0.9001 - val_accuracy: 0.6618\n",
      "Epoch 30/100\n",
      "102/102 [==============================] - 1s 8ms/step - loss: 0.8174 - accuracy: 0.6950 - val_loss: 0.9160 - val_accuracy: 0.6488\n",
      "Epoch 31/100\n",
      "102/102 [==============================] - 1s 8ms/step - loss: 0.8362 - accuracy: 0.6918 - val_loss: 0.9007 - val_accuracy: 0.6567\n",
      "Epoch 32/100\n",
      "102/102 [==============================] - 1s 8ms/step - loss: 0.8348 - accuracy: 0.6869 - val_loss: 0.8847 - val_accuracy: 0.6707\n",
      "Epoch 33/100\n",
      "102/102 [==============================] - 1s 10ms/step - loss: 0.8260 - accuracy: 0.6933 - val_loss: 0.8976 - val_accuracy: 0.6650\n",
      "Epoch 34/100\n",
      "102/102 [==============================] - 1s 8ms/step - loss: 0.8355 - accuracy: 0.6864 - val_loss: 0.9158 - val_accuracy: 0.6582\n",
      "Epoch 35/100\n",
      "102/102 [==============================] - 1s 8ms/step - loss: 0.8299 - accuracy: 0.6858 - val_loss: 0.9012 - val_accuracy: 0.6650\n",
      "Epoch 36/100\n",
      "102/102 [==============================] - 1s 8ms/step - loss: 0.8396 - accuracy: 0.6863 - val_loss: 0.8986 - val_accuracy: 0.6736\n",
      "Epoch 37/100\n",
      "102/102 [==============================] - 1s 9ms/step - loss: 0.8320 - accuracy: 0.6875 - val_loss: 0.9097 - val_accuracy: 0.6679\n",
      "Epoch 38/100\n",
      "102/102 [==============================] - 1s 8ms/step - loss: 0.8230 - accuracy: 0.6937 - val_loss: 0.8894 - val_accuracy: 0.6689\n",
      "Epoch 39/100\n",
      "102/102 [==============================] - 1s 8ms/step - loss: 0.8362 - accuracy: 0.6812 - val_loss: 0.9122 - val_accuracy: 0.6585\n",
      "Epoch 40/100\n",
      "102/102 [==============================] - 1s 8ms/step - loss: 0.8192 - accuracy: 0.6960 - val_loss: 0.8952 - val_accuracy: 0.6657\n",
      "Epoch 41/100\n",
      "102/102 [==============================] - 1s 8ms/step - loss: 0.8117 - accuracy: 0.6887 - val_loss: 0.8979 - val_accuracy: 0.6664\n",
      "Epoch 42/100\n",
      "102/102 [==============================] - 1s 8ms/step - loss: 0.8184 - accuracy: 0.6927 - val_loss: 0.9026 - val_accuracy: 0.6618\n",
      "Epoch 43/100\n",
      "102/102 [==============================] - 1s 9ms/step - loss: 0.8309 - accuracy: 0.6855 - val_loss: 0.8883 - val_accuracy: 0.6700\n",
      "Epoch 44/100\n",
      "102/102 [==============================] - 1s 9ms/step - loss: 0.8216 - accuracy: 0.6915 - val_loss: 0.9104 - val_accuracy: 0.6488\n",
      "Epoch 45/100\n",
      "102/102 [==============================] - 1s 8ms/step - loss: 0.8257 - accuracy: 0.6860 - val_loss: 0.8931 - val_accuracy: 0.6711\n",
      "Epoch 46/100\n",
      "102/102 [==============================] - 1s 8ms/step - loss: 0.8373 - accuracy: 0.6886 - val_loss: 0.9029 - val_accuracy: 0.6506\n",
      "Epoch 47/100\n",
      "102/102 [==============================] - 1s 9ms/step - loss: 0.8332 - accuracy: 0.6881 - val_loss: 0.8993 - val_accuracy: 0.6618\n",
      "Epoch 48/100\n",
      "102/102 [==============================] - 1s 9ms/step - loss: 0.8152 - accuracy: 0.6900 - val_loss: 0.8953 - val_accuracy: 0.6610\n",
      "Epoch 49/100\n",
      "102/102 [==============================] - 1s 8ms/step - loss: 0.8326 - accuracy: 0.6903 - val_loss: 0.9110 - val_accuracy: 0.6546\n",
      "Epoch 50/100\n",
      "102/102 [==============================] - 1s 9ms/step - loss: 0.8144 - accuracy: 0.6901 - val_loss: 0.8991 - val_accuracy: 0.6592\n",
      "Epoch 51/100\n",
      "102/102 [==============================] - 1s 7ms/step - loss: 0.8214 - accuracy: 0.6924 - val_loss: 0.8899 - val_accuracy: 0.6661\n",
      "Epoch 52/100\n",
      "102/102 [==============================] - 1s 8ms/step - loss: 0.8322 - accuracy: 0.6937 - val_loss: 0.8948 - val_accuracy: 0.6639\n",
      "Epoch 53/100\n",
      "102/102 [==============================] - 1s 8ms/step - loss: 0.8348 - accuracy: 0.6863 - val_loss: 0.8816 - val_accuracy: 0.6808\n",
      "Epoch 54/100\n",
      "102/102 [==============================] - 1s 8ms/step - loss: 0.8090 - accuracy: 0.6938 - val_loss: 0.8886 - val_accuracy: 0.6668\n",
      "Epoch 55/100\n",
      "102/102 [==============================] - 1s 8ms/step - loss: 0.8305 - accuracy: 0.6890 - val_loss: 0.9238 - val_accuracy: 0.6499\n",
      "Epoch 56/100\n",
      "102/102 [==============================] - 1s 8ms/step - loss: 0.8325 - accuracy: 0.6849 - val_loss: 0.8860 - val_accuracy: 0.6732\n",
      "Epoch 57/100\n"
     ]
    },
    {
     "name": "stdout",
     "output_type": "stream",
     "text": [
      "102/102 [==============================] - 1s 8ms/step - loss: 0.8156 - accuracy: 0.6964 - val_loss: 0.9018 - val_accuracy: 0.6686\n",
      "Epoch 58/100\n",
      "102/102 [==============================] - 1s 8ms/step - loss: 0.8299 - accuracy: 0.6923 - val_loss: 0.8960 - val_accuracy: 0.6722\n",
      "Epoch 59/100\n",
      "102/102 [==============================] - 1s 8ms/step - loss: 0.8396 - accuracy: 0.6847 - val_loss: 0.9033 - val_accuracy: 0.6621\n",
      "Epoch 60/100\n",
      "102/102 [==============================] - 1s 8ms/step - loss: 0.8325 - accuracy: 0.6949 - val_loss: 0.8924 - val_accuracy: 0.6657\n",
      "Epoch 61/100\n",
      "102/102 [==============================] - 1s 8ms/step - loss: 0.8253 - accuracy: 0.6926 - val_loss: 0.8847 - val_accuracy: 0.6715\n",
      "Epoch 62/100\n",
      "102/102 [==============================] - 1s 8ms/step - loss: 0.8171 - accuracy: 0.6884 - val_loss: 0.8934 - val_accuracy: 0.6632\n",
      "Epoch 63/100\n",
      "102/102 [==============================] - 1s 8ms/step - loss: 0.8132 - accuracy: 0.6913 - val_loss: 0.8952 - val_accuracy: 0.6693\n",
      "Epoch 64/100\n",
      "102/102 [==============================] - 1s 8ms/step - loss: 0.8319 - accuracy: 0.6869 - val_loss: 0.9107 - val_accuracy: 0.6539\n",
      "Epoch 65/100\n",
      "102/102 [==============================] - 1s 8ms/step - loss: 0.8311 - accuracy: 0.6837 - val_loss: 0.8890 - val_accuracy: 0.6729\n",
      "Epoch 66/100\n",
      "102/102 [==============================] - 1s 8ms/step - loss: 0.8267 - accuracy: 0.6909 - val_loss: 0.9025 - val_accuracy: 0.6697\n",
      "Epoch 67/100\n",
      "102/102 [==============================] - 1s 8ms/step - loss: 0.8249 - accuracy: 0.6918 - val_loss: 0.9034 - val_accuracy: 0.6654\n",
      "Epoch 68/100\n",
      "102/102 [==============================] - 1s 8ms/step - loss: 0.8277 - accuracy: 0.6844 - val_loss: 0.9083 - val_accuracy: 0.6539\n",
      "Epoch 69/100\n",
      "102/102 [==============================] - 1s 8ms/step - loss: 0.8277 - accuracy: 0.6889 - val_loss: 0.9063 - val_accuracy: 0.6575\n",
      "Epoch 70/100\n",
      "102/102 [==============================] - 1s 8ms/step - loss: 0.8323 - accuracy: 0.6855 - val_loss: 0.8962 - val_accuracy: 0.6646\n",
      "Epoch 71/100\n",
      "102/102 [==============================] - 1s 9ms/step - loss: 0.8237 - accuracy: 0.6901 - val_loss: 0.8867 - val_accuracy: 0.6661\n",
      "Epoch 72/100\n",
      "102/102 [==============================] - 1s 8ms/step - loss: 0.8191 - accuracy: 0.6963 - val_loss: 0.9161 - val_accuracy: 0.6571\n",
      "Epoch 73/100\n",
      "102/102 [==============================] - 1s 8ms/step - loss: 0.8220 - accuracy: 0.6944 - val_loss: 0.9129 - val_accuracy: 0.6560\n",
      "Epoch 74/100\n",
      "102/102 [==============================] - 1s 8ms/step - loss: 0.8122 - accuracy: 0.6915 - val_loss: 0.9012 - val_accuracy: 0.6700\n",
      "Epoch 75/100\n",
      "102/102 [==============================] - 1s 8ms/step - loss: 0.8184 - accuracy: 0.6838 - val_loss: 0.9106 - val_accuracy: 0.6636\n",
      "Epoch 76/100\n",
      "102/102 [==============================] - 1s 8ms/step - loss: 0.8154 - accuracy: 0.6912 - val_loss: 0.8940 - val_accuracy: 0.6661\n",
      "Epoch 77/100\n",
      "102/102 [==============================] - 1s 9ms/step - loss: 0.8204 - accuracy: 0.6903 - val_loss: 0.9076 - val_accuracy: 0.6614\n",
      "Epoch 78/100\n",
      "102/102 [==============================] - 1s 7ms/step - loss: 0.8180 - accuracy: 0.6943 - val_loss: 0.8964 - val_accuracy: 0.6718\n",
      "Epoch 79/100\n",
      "102/102 [==============================] - 1s 8ms/step - loss: 0.8156 - accuracy: 0.6952 - val_loss: 0.9029 - val_accuracy: 0.6621\n",
      "Epoch 80/100\n",
      "102/102 [==============================] - 1s 7ms/step - loss: 0.8172 - accuracy: 0.6926 - val_loss: 0.9131 - val_accuracy: 0.6610\n",
      "Epoch 81/100\n",
      "102/102 [==============================] - 1s 7ms/step - loss: 0.8150 - accuracy: 0.6912 - val_loss: 0.9115 - val_accuracy: 0.6607\n",
      "Epoch 82/100\n",
      "102/102 [==============================] - 1s 8ms/step - loss: 0.8104 - accuracy: 0.6903 - val_loss: 0.8895 - val_accuracy: 0.6693\n",
      "Epoch 83/100\n",
      "102/102 [==============================] - 1s 8ms/step - loss: 0.8228 - accuracy: 0.6901 - val_loss: 0.8937 - val_accuracy: 0.6700\n",
      "Epoch 84/100\n",
      "102/102 [==============================] - 1s 8ms/step - loss: 0.8179 - accuracy: 0.6923 - val_loss: 0.9073 - val_accuracy: 0.6646\n",
      "Epoch 85/100\n",
      "102/102 [==============================] - 1s 8ms/step - loss: 0.8216 - accuracy: 0.6850 - val_loss: 0.8966 - val_accuracy: 0.6722\n",
      "Epoch 86/100\n",
      "102/102 [==============================] - 1s 8ms/step - loss: 0.8193 - accuracy: 0.6901 - val_loss: 0.9008 - val_accuracy: 0.6747\n",
      "Epoch 87/100\n",
      "102/102 [==============================] - 1s 8ms/step - loss: 0.8201 - accuracy: 0.6924 - val_loss: 0.9111 - val_accuracy: 0.6600\n",
      "Epoch 88/100\n",
      "102/102 [==============================] - 1s 8ms/step - loss: 0.8168 - accuracy: 0.6903 - val_loss: 0.9003 - val_accuracy: 0.6679\n",
      "Epoch 89/100\n",
      "102/102 [==============================] - 1s 8ms/step - loss: 0.8132 - accuracy: 0.6961 - val_loss: 0.8988 - val_accuracy: 0.6643\n",
      "Epoch 90/100\n",
      "102/102 [==============================] - 1s 8ms/step - loss: 0.8192 - accuracy: 0.6975 - val_loss: 0.8945 - val_accuracy: 0.6679\n",
      "Epoch 91/100\n",
      "102/102 [==============================] - 1s 8ms/step - loss: 0.8229 - accuracy: 0.6897 - val_loss: 0.8999 - val_accuracy: 0.6585\n",
      "Epoch 92/100\n",
      "102/102 [==============================] - 1s 8ms/step - loss: 0.8150 - accuracy: 0.6877 - val_loss: 0.8981 - val_accuracy: 0.6646\n",
      "Epoch 93/100\n",
      "102/102 [==============================] - 1s 8ms/step - loss: 0.8081 - accuracy: 0.6995 - val_loss: 0.8905 - val_accuracy: 0.6657\n",
      "Epoch 94/100\n",
      "102/102 [==============================] - 1s 8ms/step - loss: 0.8341 - accuracy: 0.6857 - val_loss: 0.8947 - val_accuracy: 0.6693\n",
      "Epoch 95/100\n",
      "102/102 [==============================] - 1s 8ms/step - loss: 0.8188 - accuracy: 0.6926 - val_loss: 0.9013 - val_accuracy: 0.6671\n",
      "Epoch 96/100\n",
      "102/102 [==============================] - 1s 8ms/step - loss: 0.8240 - accuracy: 0.6861 - val_loss: 0.9030 - val_accuracy: 0.6711\n",
      "Epoch 97/100\n",
      "102/102 [==============================] - 1s 9ms/step - loss: 0.8208 - accuracy: 0.6944 - val_loss: 0.8934 - val_accuracy: 0.6671\n",
      "Epoch 98/100\n",
      "102/102 [==============================] - 1s 8ms/step - loss: 0.8059 - accuracy: 0.6970 - val_loss: 0.8954 - val_accuracy: 0.6715\n",
      "Epoch 99/100\n",
      "102/102 [==============================] - 1s 8ms/step - loss: 0.8181 - accuracy: 0.6940 - val_loss: 0.9052 - val_accuracy: 0.6628\n",
      "Epoch 100/100\n",
      "102/102 [==============================] - 1s 8ms/step - loss: 0.8136 - accuracy: 0.6820 - val_loss: 0.8992 - val_accuracy: 0.6646\n"
     ]
    }
   ],
   "source": [
    "# fit the data agaist the validation set\n",
    "num_epochs = 100\n",
    "batch_size = 64\n",
    "k = model.fit(x_train,y_train,batch_size = batch_size, epochs = num_epochs,\n",
    "         validation_data = (x_test,y_test))"
   ]
  },
  {
   "cell_type": "code",
   "execution_count": 30,
   "id": "accepting-window",
   "metadata": {},
   "outputs": [
    {
     "name": "stdout",
     "output_type": "stream",
     "text": [
      "0.6646319627761841\n"
     ]
    }
   ],
   "source": [
    "test_accuracy = model.evaluate(x_test,y_test,verbose = 0)\n",
    "print(test_accuracy[1])"
   ]
  },
  {
   "cell_type": "code",
   "execution_count": null,
   "id": "outstanding-andrews",
   "metadata": {},
   "outputs": [],
   "source": []
  }
 ],
 "metadata": {
  "kernelspec": {
   "display_name": "Python 3",
   "language": "python",
   "name": "python3"
  },
  "language_info": {
   "codemirror_mode": {
    "name": "ipython",
    "version": 3
   },
   "file_extension": ".py",
   "mimetype": "text/x-python",
   "name": "python",
   "nbconvert_exporter": "python",
   "pygments_lexer": "ipython3",
   "version": "3.8.8"
  }
 },
 "nbformat": 4,
 "nbformat_minor": 5
}
